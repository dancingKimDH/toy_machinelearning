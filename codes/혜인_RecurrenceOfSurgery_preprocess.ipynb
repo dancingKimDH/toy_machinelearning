{
 "cells": [
  {
   "cell_type": "markdown",
   "id": "2c933800-740e-4ab3-bef1-6e346f0c64a9",
   "metadata": {},
   "source": [
    "## Quest\n",
    "- 업무분장(전처리, 모델학습).\n",
    "- RecurrenceOfSurgery.csv 사용\n",
    "- 목표변수 : 범주형, 설명변수 : 최소 6개 \n",
    "- 서비스 대상과 목표 설명, 변수 선택 이유"
   ]
  },
  {
   "cell_type": "markdown",
   "id": "66cb0c32-da9b-4fa2-b0d4-0a66685feb4f",
   "metadata": {},
   "source": [
    "### 변수설정\n",
    "0. 서비스 대상: 환자\n",
    "    * 수술실패에 영향을 미치는 요인들이 무엇이 있을까?\n",
    "1. target: 수술실패여부\n",
    "2. features \n",
    "    * 범주형: 고혈압여부\n",
    "    * 범주형: 성별\n",
    "    * 범주형: 신부전여부\n",
    "    * 연속형: 연령\n",
    "    * 연속형: 체중\n",
    "    * 연속형: 수술시간"
   ]
  },
  {
   "cell_type": "code",
   "execution_count": 1,
   "id": "c6083340-d675-43f0-8ade-9fa36ebac184",
   "metadata": {
    "tags": []
   },
   "outputs": [],
   "source": [
    "import pandas as pd"
   ]
  },
  {
   "cell_type": "code",
   "execution_count": 2,
   "id": "dd52352e-5f73-4af7-a115-d55f0149960c",
   "metadata": {
    "tags": []
   },
   "outputs": [
    {
     "data": {
      "text/html": [
       "<div>\n",
       "<style scoped>\n",
       "    .dataframe tbody tr th:only-of-type {\n",
       "        vertical-align: middle;\n",
       "    }\n",
       "\n",
       "    .dataframe tbody tr th {\n",
       "        vertical-align: top;\n",
       "    }\n",
       "\n",
       "    .dataframe thead th {\n",
       "        text-align: right;\n",
       "    }\n",
       "</style>\n",
       "<table border=\"1\" class=\"dataframe\">\n",
       "  <thead>\n",
       "    <tr style=\"text-align: right;\">\n",
       "      <th></th>\n",
       "      <th>Unnamed: 0</th>\n",
       "      <th>환자ID</th>\n",
       "      <th>Large Lymphocyte</th>\n",
       "      <th>Location of herniation</th>\n",
       "      <th>ODI</th>\n",
       "      <th>가족력</th>\n",
       "      <th>간질성폐질환</th>\n",
       "      <th>고혈압여부</th>\n",
       "      <th>과거수술횟수</th>\n",
       "      <th>당뇨여부</th>\n",
       "      <th>...</th>\n",
       "      <th>Modic change</th>\n",
       "      <th>PI</th>\n",
       "      <th>PT</th>\n",
       "      <th>Seg Angle(raw)</th>\n",
       "      <th>Vaccum disc</th>\n",
       "      <th>골밀도</th>\n",
       "      <th>디스크단면적</th>\n",
       "      <th>디스크위치</th>\n",
       "      <th>척추이동척도</th>\n",
       "      <th>척추전방위증</th>\n",
       "    </tr>\n",
       "  </thead>\n",
       "  <tbody>\n",
       "    <tr>\n",
       "      <th>0</th>\n",
       "      <td>0</td>\n",
       "      <td>1PT</td>\n",
       "      <td>22.8</td>\n",
       "      <td>3</td>\n",
       "      <td>51.0</td>\n",
       "      <td>0.0</td>\n",
       "      <td>0</td>\n",
       "      <td>0</td>\n",
       "      <td>0</td>\n",
       "      <td>0</td>\n",
       "      <td>...</td>\n",
       "      <td>3</td>\n",
       "      <td>51.6</td>\n",
       "      <td>36.6</td>\n",
       "      <td>14.4</td>\n",
       "      <td>0</td>\n",
       "      <td>-1.01</td>\n",
       "      <td>2048.5</td>\n",
       "      <td>4</td>\n",
       "      <td>Down</td>\n",
       "      <td>0</td>\n",
       "    </tr>\n",
       "    <tr>\n",
       "      <th>1</th>\n",
       "      <td>1</td>\n",
       "      <td>2PT</td>\n",
       "      <td>44.9</td>\n",
       "      <td>4</td>\n",
       "      <td>26.0</td>\n",
       "      <td>0.0</td>\n",
       "      <td>0</td>\n",
       "      <td>0</td>\n",
       "      <td>0</td>\n",
       "      <td>0</td>\n",
       "      <td>...</td>\n",
       "      <td>0</td>\n",
       "      <td>40.8</td>\n",
       "      <td>7.2</td>\n",
       "      <td>17.8</td>\n",
       "      <td>0</td>\n",
       "      <td>-1.14</td>\n",
       "      <td>1753.1</td>\n",
       "      <td>4</td>\n",
       "      <td>Up</td>\n",
       "      <td>0</td>\n",
       "    </tr>\n",
       "  </tbody>\n",
       "</table>\n",
       "<p>2 rows × 52 columns</p>\n",
       "</div>"
      ],
      "text/plain": [
       "   Unnamed: 0 환자ID  Large Lymphocyte  Location of herniation   ODI  가족력  \\\n",
       "0           0  1PT              22.8                       3  51.0  0.0   \n",
       "1           1  2PT              44.9                       4  26.0  0.0   \n",
       "\n",
       "   간질성폐질환  고혈압여부  과거수술횟수  당뇨여부  ...  Modic change    PI    PT  Seg Angle(raw)  \\\n",
       "0       0      0       0     0  ...             3  51.6  36.6            14.4   \n",
       "1       0      0       0     0  ...             0  40.8   7.2            17.8   \n",
       "\n",
       "   Vaccum disc   골밀도  디스크단면적  디스크위치  척추이동척도  척추전방위증  \n",
       "0            0 -1.01  2048.5      4    Down       0  \n",
       "1            0 -1.14  1753.1      4      Up       0  \n",
       "\n",
       "[2 rows x 52 columns]"
      ]
     },
     "execution_count": 2,
     "metadata": {},
     "output_type": "execute_result"
    }
   ],
   "source": [
    "df_ROS = pd.read_csv('../datasets/RecurrenceOfSurgery.csv')\n",
    "df_ROS[:2]"
   ]
  },
  {
   "cell_type": "code",
   "execution_count": 3,
   "id": "cbeb852f-e867-4426-8e90-58ef5b38056e",
   "metadata": {
    "tags": []
   },
   "outputs": [
    {
     "name": "stdout",
     "output_type": "stream",
     "text": [
      "<class 'pandas.core.series.Series'>\n",
      "RangeIndex: 1894 entries, 0 to 1893\n",
      "Series name: 수술시간\n",
      "Non-Null Count  Dtype  \n",
      "--------------  -----  \n",
      "1840 non-null   float64\n",
      "dtypes: float64(1)\n",
      "memory usage: 14.9 KB\n"
     ]
    }
   ],
   "source": [
    "df_ROS['수술시간'].info()"
   ]
  },
  {
   "cell_type": "markdown",
   "id": "a2115742-2606-4d07-abc8-51a66b9cc771",
   "metadata": {},
   "source": [
    "#### 전처리"
   ]
  },
  {
   "cell_type": "code",
   "execution_count": 4,
   "id": "d2c89fb0-0a95-45db-a557-567746049220",
   "metadata": {
    "tags": []
   },
   "outputs": [
    {
     "data": {
      "text/html": [
       "<div>\n",
       "<style scoped>\n",
       "    .dataframe tbody tr th:only-of-type {\n",
       "        vertical-align: middle;\n",
       "    }\n",
       "\n",
       "    .dataframe tbody tr th {\n",
       "        vertical-align: top;\n",
       "    }\n",
       "\n",
       "    .dataframe thead th {\n",
       "        text-align: right;\n",
       "    }\n",
       "</style>\n",
       "<table border=\"1\" class=\"dataframe\">\n",
       "  <thead>\n",
       "    <tr style=\"text-align: right;\">\n",
       "      <th></th>\n",
       "      <th>수술실패여부</th>\n",
       "      <th>고혈압여부</th>\n",
       "      <th>성별</th>\n",
       "      <th>신부전여부</th>\n",
       "      <th>연령</th>\n",
       "      <th>체중</th>\n",
       "      <th>수술시간</th>\n",
       "    </tr>\n",
       "  </thead>\n",
       "  <tbody>\n",
       "    <tr>\n",
       "      <th>0</th>\n",
       "      <td>0</td>\n",
       "      <td>0</td>\n",
       "      <td>2</td>\n",
       "      <td>0</td>\n",
       "      <td>66</td>\n",
       "      <td>60.3</td>\n",
       "      <td>68.0</td>\n",
       "    </tr>\n",
       "    <tr>\n",
       "      <th>1</th>\n",
       "      <td>0</td>\n",
       "      <td>0</td>\n",
       "      <td>1</td>\n",
       "      <td>0</td>\n",
       "      <td>47</td>\n",
       "      <td>71.7</td>\n",
       "      <td>31.0</td>\n",
       "    </tr>\n",
       "  </tbody>\n",
       "</table>\n",
       "</div>"
      ],
      "text/plain": [
       "   수술실패여부  고혈압여부  성별  신부전여부  연령    체중  수술시간\n",
       "0       0      0   2      0  66  60.3  68.0\n",
       "1       0      0   1      0  47  71.7  31.0"
      ]
     },
     "execution_count": 4,
     "metadata": {},
     "output_type": "execute_result"
    }
   ],
   "source": [
    "df_ROS_select = df_ROS[['수술실패여부', '고혈압여부', '성별', '신부전여부', '연령', '체중', '수술시간']]\n",
    "df_ROS_select[:2]"
   ]
  },
  {
   "cell_type": "markdown",
   "id": "721ad736-2610-412f-85f9-c491833cb1cb",
   "metadata": {},
   "source": [
    "#### Scaling & Encoding & Concat"
   ]
  },
  {
   "cell_type": "markdown",
   "id": "0b6f25b9-9d68-4806-a2ce-54552022bf4d",
   "metadata": {},
   "source": [
    "##### - OneHotEncoding"
   ]
  },
  {
   "cell_type": "code",
   "execution_count": 5,
   "id": "b894492b-5aa3-4f49-ad71-3a6f766889ee",
   "metadata": {
    "tags": []
   },
   "outputs": [
    {
     "data": {
      "text/plain": [
       "(고혈압여부\n",
       " 0    1646\n",
       " 1     248\n",
       " Name: count, dtype: int64,\n",
       " 성별\n",
       " 1    1168\n",
       " 2     726\n",
       " Name: count, dtype: int64,\n",
       " 신부전여부\n",
       " 0    1846\n",
       " 1      48\n",
       " Name: count, dtype: int64)"
      ]
     },
     "execution_count": 5,
     "metadata": {},
     "output_type": "execute_result"
    }
   ],
   "source": [
    "# 범주형 데이터 확인 : '고혈압여부', '성별', '신부전여부'\n",
    "df_ROS_select['고혈압여부'].value_counts(),df_ROS_select['성별'].value_counts(),df_ROS_select['신부전여부'].value_counts()"
   ]
  },
  {
   "cell_type": "code",
   "execution_count": 6,
   "id": "7fe7a1da-33be-4f04-8700-2466d2f44334",
   "metadata": {
    "tags": []
   },
   "outputs": [],
   "source": [
    "from sklearn.preprocessing import OneHotEncoder"
   ]
  },
  {
   "cell_type": "code",
   "execution_count": 7,
   "id": "edb6cc5c-0842-4c66-8f4c-4addc9ddd72d",
   "metadata": {
    "tags": []
   },
   "outputs": [
    {
     "data": {
      "text/html": [
       "<style>#sk-container-id-1 {color: black;}#sk-container-id-1 pre{padding: 0;}#sk-container-id-1 div.sk-toggleable {background-color: white;}#sk-container-id-1 label.sk-toggleable__label {cursor: pointer;display: block;width: 100%;margin-bottom: 0;padding: 0.3em;box-sizing: border-box;text-align: center;}#sk-container-id-1 label.sk-toggleable__label-arrow:before {content: \"▸\";float: left;margin-right: 0.25em;color: #696969;}#sk-container-id-1 label.sk-toggleable__label-arrow:hover:before {color: black;}#sk-container-id-1 div.sk-estimator:hover label.sk-toggleable__label-arrow:before {color: black;}#sk-container-id-1 div.sk-toggleable__content {max-height: 0;max-width: 0;overflow: hidden;text-align: left;background-color: #f0f8ff;}#sk-container-id-1 div.sk-toggleable__content pre {margin: 0.2em;color: black;border-radius: 0.25em;background-color: #f0f8ff;}#sk-container-id-1 input.sk-toggleable__control:checked~div.sk-toggleable__content {max-height: 200px;max-width: 100%;overflow: auto;}#sk-container-id-1 input.sk-toggleable__control:checked~label.sk-toggleable__label-arrow:before {content: \"▾\";}#sk-container-id-1 div.sk-estimator input.sk-toggleable__control:checked~label.sk-toggleable__label {background-color: #d4ebff;}#sk-container-id-1 div.sk-label input.sk-toggleable__control:checked~label.sk-toggleable__label {background-color: #d4ebff;}#sk-container-id-1 input.sk-hidden--visually {border: 0;clip: rect(1px 1px 1px 1px);clip: rect(1px, 1px, 1px, 1px);height: 1px;margin: -1px;overflow: hidden;padding: 0;position: absolute;width: 1px;}#sk-container-id-1 div.sk-estimator {font-family: monospace;background-color: #f0f8ff;border: 1px dotted black;border-radius: 0.25em;box-sizing: border-box;margin-bottom: 0.5em;}#sk-container-id-1 div.sk-estimator:hover {background-color: #d4ebff;}#sk-container-id-1 div.sk-parallel-item::after {content: \"\";width: 100%;border-bottom: 1px solid gray;flex-grow: 1;}#sk-container-id-1 div.sk-label:hover label.sk-toggleable__label {background-color: #d4ebff;}#sk-container-id-1 div.sk-serial::before {content: \"\";position: absolute;border-left: 1px solid gray;box-sizing: border-box;top: 0;bottom: 0;left: 50%;z-index: 0;}#sk-container-id-1 div.sk-serial {display: flex;flex-direction: column;align-items: center;background-color: white;padding-right: 0.2em;padding-left: 0.2em;position: relative;}#sk-container-id-1 div.sk-item {position: relative;z-index: 1;}#sk-container-id-1 div.sk-parallel {display: flex;align-items: stretch;justify-content: center;background-color: white;position: relative;}#sk-container-id-1 div.sk-item::before, #sk-container-id-1 div.sk-parallel-item::before {content: \"\";position: absolute;border-left: 1px solid gray;box-sizing: border-box;top: 0;bottom: 0;left: 50%;z-index: -1;}#sk-container-id-1 div.sk-parallel-item {display: flex;flex-direction: column;z-index: 1;position: relative;background-color: white;}#sk-container-id-1 div.sk-parallel-item:first-child::after {align-self: flex-end;width: 50%;}#sk-container-id-1 div.sk-parallel-item:last-child::after {align-self: flex-start;width: 50%;}#sk-container-id-1 div.sk-parallel-item:only-child::after {width: 0;}#sk-container-id-1 div.sk-dashed-wrapped {border: 1px dashed gray;margin: 0 0.4em 0.5em 0.4em;box-sizing: border-box;padding-bottom: 0.4em;background-color: white;}#sk-container-id-1 div.sk-label label {font-family: monospace;font-weight: bold;display: inline-block;line-height: 1.2em;}#sk-container-id-1 div.sk-label-container {text-align: center;}#sk-container-id-1 div.sk-container {/* jupyter's `normalize.less` sets `[hidden] { display: none; }` but bootstrap.min.css set `[hidden] { display: none !important; }` so we also need the `!important` here to be able to override the default hidden behavior on the sphinx rendered scikit-learn.org. See: https://github.com/scikit-learn/scikit-learn/issues/21755 */display: inline-block !important;position: relative;}#sk-container-id-1 div.sk-text-repr-fallback {display: none;}</style><div id=\"sk-container-id-1\" class=\"sk-top-container\"><div class=\"sk-text-repr-fallback\"><pre>OneHotEncoder()</pre><b>In a Jupyter environment, please rerun this cell to show the HTML representation or trust the notebook. <br />On GitHub, the HTML representation is unable to render, please try loading this page with nbviewer.org.</b></div><div class=\"sk-container\" hidden><div class=\"sk-item\"><div class=\"sk-estimator sk-toggleable\"><input class=\"sk-toggleable__control sk-hidden--visually\" id=\"sk-estimator-id-1\" type=\"checkbox\" checked><label for=\"sk-estimator-id-1\" class=\"sk-toggleable__label sk-toggleable__label-arrow\">OneHotEncoder</label><div class=\"sk-toggleable__content\"><pre>OneHotEncoder()</pre></div></div></div></div></div>"
      ],
      "text/plain": [
       "OneHotEncoder()"
      ]
     },
     "execution_count": 7,
     "metadata": {},
     "output_type": "execute_result"
    }
   ],
   "source": [
    "# 범주형 설명변수 OneHotEncoding\n",
    "oneHotEncoder = OneHotEncoder() # 인스턴스화\n",
    "oneHotEncoder =oneHotEncoder.fit(df_ROS_select[['고혈압여부', '성별', '신부전여부']])\n",
    "oneHotEncoder"
   ]
  },
  {
   "cell_type": "code",
   "execution_count": 8,
   "id": "79a564ae-677b-45a4-abb1-b3dea2fabca9",
   "metadata": {
    "tags": []
   },
   "outputs": [
    {
     "data": {
      "text/plain": [
       "[array([0, 1], dtype=int64),\n",
       " array([1, 2], dtype=int64),\n",
       " array([0, 1], dtype=int64)]"
      ]
     },
     "execution_count": 8,
     "metadata": {},
     "output_type": "execute_result"
    }
   ],
   "source": [
    "oneHotEncoder.categories_"
   ]
  },
  {
   "cell_type": "code",
   "execution_count": 9,
   "id": "c2c4a8de-c7ae-4e95-a33a-622d9985a3db",
   "metadata": {
    "tags": []
   },
   "outputs": [
    {
     "data": {
      "text/plain": [
       "(1894, 6)"
      ]
     },
     "execution_count": 9,
     "metadata": {},
     "output_type": "execute_result"
    }
   ],
   "source": [
    "encoded_data = oneHotEncoder.transform(df_ROS_select[['고혈압여부', '성별', '신부전여부']]).toarray()\n",
    "encoded_data.shape"
   ]
  },
  {
   "cell_type": "code",
   "execution_count": 10,
   "id": "f674c288-42e1-4ce7-9454-872dfcc3429b",
   "metadata": {
    "tags": []
   },
   "outputs": [
    {
     "data": {
      "text/html": [
       "<div>\n",
       "<style scoped>\n",
       "    .dataframe tbody tr th:only-of-type {\n",
       "        vertical-align: middle;\n",
       "    }\n",
       "\n",
       "    .dataframe tbody tr th {\n",
       "        vertical-align: top;\n",
       "    }\n",
       "\n",
       "    .dataframe thead th {\n",
       "        text-align: right;\n",
       "    }\n",
       "</style>\n",
       "<table border=\"1\" class=\"dataframe\">\n",
       "  <thead>\n",
       "    <tr style=\"text-align: right;\">\n",
       "      <th></th>\n",
       "      <th>고혈압여부_0</th>\n",
       "      <th>고혈압여부_1</th>\n",
       "      <th>성별_1</th>\n",
       "      <th>성별_2</th>\n",
       "      <th>신부전여부_0</th>\n",
       "      <th>신부전여부_1</th>\n",
       "    </tr>\n",
       "  </thead>\n",
       "  <tbody>\n",
       "    <tr>\n",
       "      <th>0</th>\n",
       "      <td>1.0</td>\n",
       "      <td>0.0</td>\n",
       "      <td>0.0</td>\n",
       "      <td>1.0</td>\n",
       "      <td>1.0</td>\n",
       "      <td>0.0</td>\n",
       "    </tr>\n",
       "    <tr>\n",
       "      <th>1</th>\n",
       "      <td>1.0</td>\n",
       "      <td>0.0</td>\n",
       "      <td>1.0</td>\n",
       "      <td>0.0</td>\n",
       "      <td>1.0</td>\n",
       "      <td>0.0</td>\n",
       "    </tr>\n",
       "  </tbody>\n",
       "</table>\n",
       "</div>"
      ],
      "text/plain": [
       "   고혈압여부_0  고혈압여부_1  성별_1  성별_2  신부전여부_0  신부전여부_1\n",
       "0      1.0      0.0   0.0   1.0      1.0      0.0\n",
       "1      1.0      0.0   1.0   0.0      1.0      0.0"
      ]
     },
     "execution_count": 10,
     "metadata": {},
     "output_type": "execute_result"
    }
   ],
   "source": [
    "df_encoded_data = pd.DataFrame(data=encoded_data, columns=oneHotEncoder.get_feature_names_out(['고혈압여부', '성별', '신부전여부']))\n",
    "df_encoded_data[:2]"
   ]
  },
  {
   "cell_type": "markdown",
   "id": "567abc60-71fc-4999-aea8-29303953b608",
   "metadata": {},
   "source": [
    "##### - 병합(Concat)"
   ]
  },
  {
   "cell_type": "code",
   "execution_count": 11,
   "id": "7556de55-d3fb-4348-b350-52cb416f329f",
   "metadata": {
    "tags": []
   },
   "outputs": [
    {
     "data": {
      "text/html": [
       "<div>\n",
       "<style scoped>\n",
       "    .dataframe tbody tr th:only-of-type {\n",
       "        vertical-align: middle;\n",
       "    }\n",
       "\n",
       "    .dataframe tbody tr th {\n",
       "        vertical-align: top;\n",
       "    }\n",
       "\n",
       "    .dataframe thead th {\n",
       "        text-align: right;\n",
       "    }\n",
       "</style>\n",
       "<table border=\"1\" class=\"dataframe\">\n",
       "  <thead>\n",
       "    <tr style=\"text-align: right;\">\n",
       "      <th></th>\n",
       "      <th>수술실패여부</th>\n",
       "      <th>고혈압여부</th>\n",
       "      <th>성별</th>\n",
       "      <th>신부전여부</th>\n",
       "      <th>연령</th>\n",
       "      <th>체중</th>\n",
       "      <th>수술시간</th>\n",
       "      <th>고혈압여부_0</th>\n",
       "      <th>고혈압여부_1</th>\n",
       "      <th>성별_1</th>\n",
       "      <th>성별_2</th>\n",
       "      <th>신부전여부_0</th>\n",
       "      <th>신부전여부_1</th>\n",
       "    </tr>\n",
       "  </thead>\n",
       "  <tbody>\n",
       "    <tr>\n",
       "      <th>0</th>\n",
       "      <td>0</td>\n",
       "      <td>0</td>\n",
       "      <td>2</td>\n",
       "      <td>0</td>\n",
       "      <td>66</td>\n",
       "      <td>60.3</td>\n",
       "      <td>68.0</td>\n",
       "      <td>1.0</td>\n",
       "      <td>0.0</td>\n",
       "      <td>0.0</td>\n",
       "      <td>1.0</td>\n",
       "      <td>1.0</td>\n",
       "      <td>0.0</td>\n",
       "    </tr>\n",
       "    <tr>\n",
       "      <th>1</th>\n",
       "      <td>0</td>\n",
       "      <td>0</td>\n",
       "      <td>1</td>\n",
       "      <td>0</td>\n",
       "      <td>47</td>\n",
       "      <td>71.7</td>\n",
       "      <td>31.0</td>\n",
       "      <td>1.0</td>\n",
       "      <td>0.0</td>\n",
       "      <td>1.0</td>\n",
       "      <td>0.0</td>\n",
       "      <td>1.0</td>\n",
       "      <td>0.0</td>\n",
       "    </tr>\n",
       "  </tbody>\n",
       "</table>\n",
       "</div>"
      ],
      "text/plain": [
       "   수술실패여부  고혈압여부  성별  신부전여부  연령    체중  수술시간  고혈압여부_0  고혈압여부_1  성별_1  성별_2  \\\n",
       "0       0      0   2      0  66  60.3  68.0      1.0      0.0   0.0   1.0   \n",
       "1       0      0   1      0  47  71.7  31.0      1.0      0.0   1.0   0.0   \n",
       "\n",
       "   신부전여부_0  신부전여부_1  \n",
       "0      1.0      0.0  \n",
       "1      1.0      0.0  "
      ]
     },
     "execution_count": 11,
     "metadata": {},
     "output_type": "execute_result"
    }
   ],
   "source": [
    "df_ROS_select= pd.concat([df_ROS_select.reset_index(drop=True), df_encoded_data.reset_index(drop=True)], axis=1)\n",
    "df_ROS_select[:2]"
   ]
  },
  {
   "cell_type": "code",
   "execution_count": 12,
   "id": "2128976e-083b-4b3c-be0f-68a26782dd15",
   "metadata": {
    "tags": []
   },
   "outputs": [
    {
     "data": {
      "text/plain": [
       "(1894, 13)"
      ]
     },
     "execution_count": 12,
     "metadata": {},
     "output_type": "execute_result"
    }
   ],
   "source": [
    "df_ROS_select.shape"
   ]
  },
  {
   "cell_type": "markdown",
   "id": "9ffffa5f-59e9-482f-aff7-a65f61bd323b",
   "metadata": {},
   "source": [
    "##### - Scaling"
   ]
  },
  {
   "cell_type": "code",
   "execution_count": 13,
   "id": "fa8c056d-8b4a-4417-96b9-4be1aed7caea",
   "metadata": {
    "tags": []
   },
   "outputs": [
    {
     "data": {
      "text/plain": [
       "Index(['수술실패여부', '고혈압여부', '성별', '신부전여부', '연령', '체중', '수술시간', '고혈압여부_0',\n",
       "       '고혈압여부_1', '성별_1', '성별_2', '신부전여부_0', '신부전여부_1'],\n",
       "      dtype='object')"
      ]
     },
     "execution_count": 13,
     "metadata": {},
     "output_type": "execute_result"
    }
   ],
   "source": [
    "df_ROS_select.columns"
   ]
  },
  {
   "cell_type": "code",
   "execution_count": 14,
   "id": "1a825a74-20a5-40bc-a67d-8f2f438aa28f",
   "metadata": {
    "tags": []
   },
   "outputs": [],
   "source": [
    "target = df_ROS_select['수술실패여부']\n",
    "features = df_ROS_select.drop(columns=['수술실패여부', '고혈압여부', '성별', '신부전여부'])"
   ]
  },
  {
   "cell_type": "code",
   "execution_count": 15,
   "id": "847b4bf8-f37d-46d2-9f4f-e04050a8ac97",
   "metadata": {
    "tags": []
   },
   "outputs": [
    {
     "data": {
      "text/plain": [
       "Index(['연령', '체중', '수술시간', '고혈압여부_0', '고혈압여부_1', '성별_1', '성별_2', '신부전여부_0',\n",
       "       '신부전여부_1'],\n",
       "      dtype='object')"
      ]
     },
     "execution_count": 15,
     "metadata": {},
     "output_type": "execute_result"
    }
   ],
   "source": [
    "features.columns"
   ]
  },
  {
   "cell_type": "markdown",
   "id": "ed59d2a2-eb30-4a1d-ad47-e4908374f154",
   "metadata": {},
   "source": [
    "##### - MinMaxScaler"
   ]
  },
  {
   "cell_type": "code",
   "execution_count": 16,
   "id": "761f57c7-49fa-43a4-9f8d-eb181ab84203",
   "metadata": {
    "tags": []
   },
   "outputs": [],
   "source": [
    "from sklearn.preprocessing import MinMaxScaler"
   ]
  },
  {
   "cell_type": "code",
   "execution_count": 17,
   "id": "530f76c1-6f4b-494e-8de4-b406c5eb9af7",
   "metadata": {
    "tags": []
   },
   "outputs": [
    {
     "data": {
      "text/plain": [
       "(1894, 9)"
      ]
     },
     "execution_count": 17,
     "metadata": {},
     "output_type": "execute_result"
    }
   ],
   "source": [
    "minMaxScaler = MinMaxScaler() #인스턴스화\n",
    "# features = minMaxSclaer.fit_transform(features)\n",
    "fit_scaler = minMaxScaler.fit(features)\n",
    "features_scaler = fit_scaler.transform(features)\n",
    "features_scaler.shape"
   ]
  },
  {
   "cell_type": "markdown",
   "id": "c977bd5b-4546-4e1c-9759-73f5004a5cc5",
   "metadata": {
    "tags": []
   },
   "source": [
    "#### 모델학습, apply()함수를 사용하여 null값 채우기\n",
    "- null 값 채우기 : '수술시간'"
   ]
  },
  {
   "cell_type": "code",
   "execution_count": 18,
   "id": "a6dee6be-fd5d-4c04-9818-76f8e9453f6a",
   "metadata": {
    "tags": []
   },
   "outputs": [
    {
     "data": {
      "text/plain": [
       "수술실패여부      0\n",
       "고혈압여부       0\n",
       "성별          0\n",
       "신부전여부       0\n",
       "연령          0\n",
       "체중          0\n",
       "수술시간       54\n",
       "고혈압여부_0     0\n",
       "고혈압여부_1     0\n",
       "성별_1        0\n",
       "성별_2        0\n",
       "신부전여부_0     0\n",
       "신부전여부_1     0\n",
       "dtype: int64"
      ]
     },
     "execution_count": 18,
     "metadata": {},
     "output_type": "execute_result"
    }
   ],
   "source": [
    "# null값 확인 -> 수술시간 null값 존재\n",
    "df_ROS_select.isnull().sum()"
   ]
  },
  {
   "cell_type": "code",
   "execution_count": 19,
   "id": "f763682e-10bf-402f-bb61-69640b3f955d",
   "metadata": {
    "tags": []
   },
   "outputs": [
    {
     "data": {
      "text/plain": [
       "수술실패여부     0\n",
       "고혈압여부      0\n",
       "성별         0\n",
       "신부전여부      0\n",
       "연령         0\n",
       "체중         0\n",
       "수술시간       0\n",
       "고혈압여부_0    0\n",
       "고혈압여부_1    0\n",
       "성별_1       0\n",
       "성별_2       0\n",
       "신부전여부_0    0\n",
       "신부전여부_1    0\n",
       "dtype: int64"
      ]
     },
     "execution_count": 19,
     "metadata": {},
     "output_type": "execute_result"
    }
   ],
   "source": [
    "# null값 삭제 -> null값이 없는 데이터로 모델 학습시키기 위함\n",
    "df_ROS_select_drop = df_ROS_select.dropna()\n",
    "df_ROS_select_drop.isnull().sum()"
   ]
  },
  {
   "cell_type": "code",
   "execution_count": 20,
   "id": "70b96c7c-fbcd-4d10-b9b6-3d7710107b38",
   "metadata": {
    "tags": []
   },
   "outputs": [
    {
     "data": {
      "text/plain": [
       "((1840, 1), (1840, 1))"
      ]
     },
     "execution_count": 20,
     "metadata": {},
     "output_type": "execute_result"
    }
   ],
   "source": [
    "# null값이 없는 데이터로 모델학습 준비\n",
    "# 1. target : '수술시간', feature: '성별'\n",
    "target = df_ROS_select_drop[['수술시간']]\n",
    "feature = df_ROS_select_drop[['성별']]\n",
    "target.shape, feature.shape"
   ]
  },
  {
   "cell_type": "code",
   "execution_count": 21,
   "id": "a4ce7b43-66ce-44d1-8a0e-86bd9e74dd57",
   "metadata": {},
   "outputs": [
    {
     "data": {
      "text/html": [
       "<style>#sk-container-id-2 {color: black;}#sk-container-id-2 pre{padding: 0;}#sk-container-id-2 div.sk-toggleable {background-color: white;}#sk-container-id-2 label.sk-toggleable__label {cursor: pointer;display: block;width: 100%;margin-bottom: 0;padding: 0.3em;box-sizing: border-box;text-align: center;}#sk-container-id-2 label.sk-toggleable__label-arrow:before {content: \"▸\";float: left;margin-right: 0.25em;color: #696969;}#sk-container-id-2 label.sk-toggleable__label-arrow:hover:before {color: black;}#sk-container-id-2 div.sk-estimator:hover label.sk-toggleable__label-arrow:before {color: black;}#sk-container-id-2 div.sk-toggleable__content {max-height: 0;max-width: 0;overflow: hidden;text-align: left;background-color: #f0f8ff;}#sk-container-id-2 div.sk-toggleable__content pre {margin: 0.2em;color: black;border-radius: 0.25em;background-color: #f0f8ff;}#sk-container-id-2 input.sk-toggleable__control:checked~div.sk-toggleable__content {max-height: 200px;max-width: 100%;overflow: auto;}#sk-container-id-2 input.sk-toggleable__control:checked~label.sk-toggleable__label-arrow:before {content: \"▾\";}#sk-container-id-2 div.sk-estimator input.sk-toggleable__control:checked~label.sk-toggleable__label {background-color: #d4ebff;}#sk-container-id-2 div.sk-label input.sk-toggleable__control:checked~label.sk-toggleable__label {background-color: #d4ebff;}#sk-container-id-2 input.sk-hidden--visually {border: 0;clip: rect(1px 1px 1px 1px);clip: rect(1px, 1px, 1px, 1px);height: 1px;margin: -1px;overflow: hidden;padding: 0;position: absolute;width: 1px;}#sk-container-id-2 div.sk-estimator {font-family: monospace;background-color: #f0f8ff;border: 1px dotted black;border-radius: 0.25em;box-sizing: border-box;margin-bottom: 0.5em;}#sk-container-id-2 div.sk-estimator:hover {background-color: #d4ebff;}#sk-container-id-2 div.sk-parallel-item::after {content: \"\";width: 100%;border-bottom: 1px solid gray;flex-grow: 1;}#sk-container-id-2 div.sk-label:hover label.sk-toggleable__label {background-color: #d4ebff;}#sk-container-id-2 div.sk-serial::before {content: \"\";position: absolute;border-left: 1px solid gray;box-sizing: border-box;top: 0;bottom: 0;left: 50%;z-index: 0;}#sk-container-id-2 div.sk-serial {display: flex;flex-direction: column;align-items: center;background-color: white;padding-right: 0.2em;padding-left: 0.2em;position: relative;}#sk-container-id-2 div.sk-item {position: relative;z-index: 1;}#sk-container-id-2 div.sk-parallel {display: flex;align-items: stretch;justify-content: center;background-color: white;position: relative;}#sk-container-id-2 div.sk-item::before, #sk-container-id-2 div.sk-parallel-item::before {content: \"\";position: absolute;border-left: 1px solid gray;box-sizing: border-box;top: 0;bottom: 0;left: 50%;z-index: -1;}#sk-container-id-2 div.sk-parallel-item {display: flex;flex-direction: column;z-index: 1;position: relative;background-color: white;}#sk-container-id-2 div.sk-parallel-item:first-child::after {align-self: flex-end;width: 50%;}#sk-container-id-2 div.sk-parallel-item:last-child::after {align-self: flex-start;width: 50%;}#sk-container-id-2 div.sk-parallel-item:only-child::after {width: 0;}#sk-container-id-2 div.sk-dashed-wrapped {border: 1px dashed gray;margin: 0 0.4em 0.5em 0.4em;box-sizing: border-box;padding-bottom: 0.4em;background-color: white;}#sk-container-id-2 div.sk-label label {font-family: monospace;font-weight: bold;display: inline-block;line-height: 1.2em;}#sk-container-id-2 div.sk-label-container {text-align: center;}#sk-container-id-2 div.sk-container {/* jupyter's `normalize.less` sets `[hidden] { display: none; }` but bootstrap.min.css set `[hidden] { display: none !important; }` so we also need the `!important` here to be able to override the default hidden behavior on the sphinx rendered scikit-learn.org. See: https://github.com/scikit-learn/scikit-learn/issues/21755 */display: inline-block !important;position: relative;}#sk-container-id-2 div.sk-text-repr-fallback {display: none;}</style><div id=\"sk-container-id-2\" class=\"sk-top-container\"><div class=\"sk-text-repr-fallback\"><pre>LinearRegression()</pre><b>In a Jupyter environment, please rerun this cell to show the HTML representation or trust the notebook. <br />On GitHub, the HTML representation is unable to render, please try loading this page with nbviewer.org.</b></div><div class=\"sk-container\" hidden><div class=\"sk-item\"><div class=\"sk-estimator sk-toggleable\"><input class=\"sk-toggleable__control sk-hidden--visually\" id=\"sk-estimator-id-2\" type=\"checkbox\" checked><label for=\"sk-estimator-id-2\" class=\"sk-toggleable__label sk-toggleable__label-arrow\">LinearRegression</label><div class=\"sk-toggleable__content\"><pre>LinearRegression()</pre></div></div></div></div></div>"
      ],
      "text/plain": [
       "LinearRegression()"
      ]
     },
     "execution_count": 21,
     "metadata": {},
     "output_type": "execute_result"
    }
   ],
   "source": [
    "# 2. null값이 없는 데이터와 실제값을 사용하여 회귀모델 훈련\n",
    "from sklearn.linear_model import LinearRegression\n",
    "model = LinearRegression() # 인스턴스화(초기화)\n",
    "model.fit(feature, target) # 모델 훈련"
   ]
  },
  {
   "cell_type": "code",
   "execution_count": 22,
   "id": "86d67cb8-fcc0-4e3b-87cc-f64a90a72f17",
   "metadata": {
    "tags": []
   },
   "outputs": [],
   "source": [
    "# 모델 예측 확인해보기 (type : numpy의 array)\n",
    "model_ = model.predict(feature)"
   ]
  },
  {
   "cell_type": "code",
   "execution_count": 23,
   "id": "b15d7589-a92a-467c-8807-cca6d979b8d7",
   "metadata": {
    "tags": []
   },
   "outputs": [
    {
     "data": {
      "text/plain": [
       "[[62.407988587731815], [61.856014047410014]]"
      ]
     },
     "execution_count": 23,
     "metadata": {},
     "output_type": "execute_result"
    }
   ],
   "source": [
    "model_list = model_.tolist()\n",
    "model_list[:2]"
   ]
  },
  {
   "cell_type": "code",
   "execution_count": 24,
   "id": "2dc4f611-dcc9-457f-9f58-0ec4cde0a10c",
   "metadata": {
    "tags": []
   },
   "outputs": [],
   "source": [
    "# apply()\n",
    "import numpy as np\n",
    "def convert_notnull(row) :\n",
    "    if np.isnan(row['수술시간'])  : # 변수 row의 값이 null이라면\n",
    "        feature = df_ROS_select[['성별']]\n",
    "        result = model.predict(feature)\n",
    "        return result[0]\n",
    "    else :\n",
    "        return row['수술시간']  # null이 아니면 원래 데이터 값 반환"
   ]
  },
  {
   "cell_type": "code",
   "execution_count": 25,
   "id": "1c061ad6-4c4e-4935-b937-d05668d40981",
   "metadata": {
    "tags": []
   },
   "outputs": [
    {
     "data": {
      "text/plain": [
       "0       68.0\n",
       "1       31.0\n",
       "2       78.0\n",
       "3       73.0\n",
       "4       29.0\n",
       "        ... \n",
       "1889    80.0\n",
       "1890    20.0\n",
       "1891    50.0\n",
       "1892    25.0\n",
       "1893    45.0\n",
       "Name: 수술시간, Length: 1894, dtype: object"
      ]
     },
     "execution_count": 25,
     "metadata": {},
     "output_type": "execute_result"
    }
   ],
   "source": [
    "df_ROS_select['수술시간'] = df_ROS_select.apply(convert_notnull, axis=1)\n",
    "df_ROS_select['수술시간']"
   ]
  },
  {
   "cell_type": "code",
   "execution_count": 26,
   "id": "855103dc-2646-400e-aab1-4b1ce0b95108",
   "metadata": {
    "tags": []
   },
   "outputs": [
    {
     "data": {
      "text/plain": [
       "0"
      ]
     },
     "execution_count": 26,
     "metadata": {},
     "output_type": "execute_result"
    }
   ],
   "source": [
    "# apply() 적용 후 null값 확인\n",
    "df_ROS_select['수술시간'].isnull().sum()"
   ]
  },
  {
   "cell_type": "code",
   "execution_count": 27,
   "id": "7c185720-e3f9-4a07-85a2-1cd4bbc610f4",
   "metadata": {
    "tags": []
   },
   "outputs": [
    {
     "data": {
      "text/plain": [
       "수술실패여부     0\n",
       "고혈압여부      0\n",
       "성별         0\n",
       "신부전여부      0\n",
       "연령         0\n",
       "체중         0\n",
       "수술시간       0\n",
       "고혈압여부_0    0\n",
       "고혈압여부_1    0\n",
       "성별_1       0\n",
       "성별_2       0\n",
       "신부전여부_0    0\n",
       "신부전여부_1    0\n",
       "dtype: int64"
      ]
     },
     "execution_count": 27,
     "metadata": {},
     "output_type": "execute_result"
    }
   ],
   "source": [
    "df_ROS_select.isnull().sum()"
   ]
  },
  {
   "cell_type": "markdown",
   "id": "7a2d0c98-204b-44cd-9869-adec0b8a409d",
   "metadata": {
    "tags": []
   },
   "source": [
    "#### best model 찾기\n",
    "- hypertuning\n",
    "- resampling"
   ]
  },
  {
   "cell_type": "code",
   "execution_count": 28,
   "id": "0e9833b3-b855-4c9d-9028-a0f59dcf0e5f",
   "metadata": {
    "tags": []
   },
   "outputs": [
    {
     "data": {
      "text/plain": [
       "연령         0\n",
       "체중         0\n",
       "수술시간       0\n",
       "고혈압여부_0    0\n",
       "고혈압여부_1    0\n",
       "성별_1       0\n",
       "성별_2       0\n",
       "신부전여부_0    0\n",
       "신부전여부_1    0\n",
       "dtype: int64"
      ]
     },
     "execution_count": 28,
     "metadata": {},
     "output_type": "execute_result"
    }
   ],
   "source": [
    "target = df_ROS_select['수술실패여부']\n",
    "features = df_ROS_select.drop(columns=['수술실패여부', '고혈압여부', '성별', '신부전여부'])\n",
    "df_ROS_select.drop(columns=['수술실패여부', '고혈압여부', '성별', '신부전여부']).isnull().sum()"
   ]
  },
  {
   "cell_type": "markdown",
   "id": "1607f7ab-c984-4c7f-8dbb-560420d9b2f9",
   "metadata": {
    "tags": []
   },
   "source": [
    "##### - HyperTuning"
   ]
  },
  {
   "cell_type": "code",
   "execution_count": 29,
   "id": "31a7ae98-5fa2-4ed8-9930-f5c96f1a5e16",
   "metadata": {
    "tags": []
   },
   "outputs": [],
   "source": [
    "# 기계학습 알고리즘 호출\n",
    "from sklearn.model_selection import train_test_split\n",
    "from sklearn.model_selection import GridSearchCV\n",
    "from sklearn.metrics import classification_report"
   ]
  },
  {
   "cell_type": "code",
   "execution_count": 30,
   "id": "5ba9c46a-09b1-4995-8746-4b573a951e64",
   "metadata": {
    "tags": []
   },
   "outputs": [
    {
     "data": {
      "text/plain": [
       "Counter({0: 1779, 1: 115})"
      ]
     },
     "execution_count": 30,
     "metadata": {},
     "output_type": "execute_result"
    }
   ],
   "source": [
    "# resampling 하기 전\n",
    "from collections import Counter\n",
    "Counter(df_ROS_select['수술실패여부'])"
   ]
  },
  {
   "cell_type": "code",
   "execution_count": 31,
   "id": "a3a4782b-c239-47be-a4d7-37e4988c13d1",
   "metadata": {
    "tags": []
   },
   "outputs": [],
   "source": [
    "from sklearn.tree import DecisionTreeClassifier\n",
    "model = DecisionTreeClassifier()"
   ]
  },
  {
   "cell_type": "code",
   "execution_count": 32,
   "id": "bf775f0b-88bb-4dee-8145-8fdc8ddb2f43",
   "metadata": {
    "tags": []
   },
   "outputs": [],
   "source": [
    "from sklearn.metrics import make_scorer, f1_score\n",
    "scoring = make_scorer(f1_score)\n",
    "hyper_list = {'max_depth':range(2, 10),\n",
    "              'min_samples_leaf': range(2, 10),\n",
    "              'criterion': ['gini','entropy'],\n",
    "              'class_weight': [None, 'balanced'],\n",
    "              'min_samples_split': range(2, 10)}\n",
    "grid_model = GridSearchCV(model, param_grid=hyper_list,\n",
    "                          scoring=scoring,\n",
    "                          n_jobs = -1,\n",
    "                          cv = 5)"
   ]
  },
  {
   "cell_type": "markdown",
   "id": "e8fd25f8-56ad-4f12-b83e-f882012a3974",
   "metadata": {},
   "source": [
    "##### - resampling\n",
    "- under sampling : NearMiss"
   ]
  },
  {
   "cell_type": "code",
   "execution_count": 33,
   "id": "fa900312-4cfc-4ac1-a0cc-30f3f2750d7b",
   "metadata": {
    "tags": []
   },
   "outputs": [
    {
     "data": {
      "text/plain": [
       "수술실패여부     0\n",
       "고혈압여부      0\n",
       "성별         0\n",
       "신부전여부      0\n",
       "연령         0\n",
       "체중         0\n",
       "수술시간       0\n",
       "고혈압여부_0    0\n",
       "고혈압여부_1    0\n",
       "성별_1       0\n",
       "성별_2       0\n",
       "신부전여부_0    0\n",
       "신부전여부_1    0\n",
       "dtype: int64"
      ]
     },
     "execution_count": 33,
     "metadata": {},
     "output_type": "execute_result"
    }
   ],
   "source": [
    "df_ROS_select.isnull().sum()"
   ]
  },
  {
   "cell_type": "code",
   "execution_count": 34,
   "id": "61e4a62f-8283-4b94-b2f4-e85b6698bb8f",
   "metadata": {
    "tags": []
   },
   "outputs": [],
   "source": [
    "from imblearn.under_sampling import NearMiss\n",
    "from datetime import datetime"
   ]
  },
  {
   "cell_type": "code",
   "execution_count": 35,
   "id": "6f57ff69-540e-4279-b6c9-87400df77dae",
   "metadata": {},
   "outputs": [
    {
     "name": "stdout",
     "output_type": "stream",
     "text": [
      "------------------------------ 0.3\n",
      "Counter({0: 383, 1: 115})\n",
      "Counter({0: 268, 1: 80}) Counter({0: 115, 1: 35})\n",
      "Duration: 0:00:18.372389\n",
      "              precision    recall  f1-score   support\n",
      "\n",
      "           0       0.86      0.91      0.88       268\n",
      "           1       0.62      0.50      0.56        80\n",
      "\n",
      "    accuracy                           0.82       348\n",
      "   macro avg       0.74      0.71      0.72       348\n",
      "weighted avg       0.81      0.82      0.81       348\n",
      "\n",
      "              precision    recall  f1-score   support\n",
      "\n",
      "           0       0.83      0.90      0.86       115\n",
      "           1       0.54      0.37      0.44        35\n",
      "\n",
      "    accuracy                           0.78       150\n",
      "   macro avg       0.68      0.64      0.65       150\n",
      "weighted avg       0.76      0.78      0.76       150\n",
      "\n",
      "------------------------------\n",
      "------------------------------ 0.35\n",
      "Counter({0: 328, 1: 115})\n",
      "Counter({0: 230, 1: 80}) Counter({0: 98, 1: 35})\n",
      "Duration: 0:00:14.159669\n",
      "              precision    recall  f1-score   support\n",
      "\n",
      "           0       0.87      0.83      0.85       230\n",
      "           1       0.57      0.65      0.60        80\n",
      "\n",
      "    accuracy                           0.78       310\n",
      "   macro avg       0.72      0.74      0.73       310\n",
      "weighted avg       0.79      0.78      0.79       310\n",
      "\n",
      "              precision    recall  f1-score   support\n",
      "\n",
      "           0       0.75      0.68      0.72        98\n",
      "           1       0.30      0.37      0.33        35\n",
      "\n",
      "    accuracy                           0.60       133\n",
      "   macro avg       0.52      0.53      0.52       133\n",
      "weighted avg       0.63      0.60      0.61       133\n",
      "\n",
      "------------------------------\n",
      "------------------------------ 0.39999999999999997\n",
      "Counter({0: 287, 1: 115})\n",
      "Counter({0: 197, 1: 84}) Counter({0: 90, 1: 31})\n",
      "Duration: 0:00:14.568925\n",
      "              precision    recall  f1-score   support\n",
      "\n",
      "           0       0.85      0.84      0.84       197\n",
      "           1       0.63      0.64      0.64        84\n",
      "\n",
      "    accuracy                           0.78       281\n",
      "   macro avg       0.74      0.74      0.74       281\n",
      "weighted avg       0.78      0.78      0.78       281\n",
      "\n",
      "              precision    recall  f1-score   support\n",
      "\n",
      "           0       0.81      0.80      0.80        90\n",
      "           1       0.44      0.45      0.44        31\n",
      "\n",
      "    accuracy                           0.71       121\n",
      "   macro avg       0.62      0.63      0.62       121\n",
      "weighted avg       0.71      0.71      0.71       121\n",
      "\n",
      "------------------------------\n",
      "------------------------------ 0.44999999999999996\n",
      "Counter({0: 255, 1: 115})\n",
      "Counter({0: 176, 1: 83}) Counter({0: 79, 1: 32})\n",
      "Duration: 0:00:14.464269\n",
      "              precision    recall  f1-score   support\n",
      "\n",
      "           0       0.82      0.96      0.89       176\n",
      "           1       0.87      0.57      0.69        83\n",
      "\n",
      "    accuracy                           0.83       259\n",
      "   macro avg       0.85      0.76      0.79       259\n",
      "weighted avg       0.84      0.83      0.82       259\n",
      "\n",
      "              precision    recall  f1-score   support\n",
      "\n",
      "           0       0.80      0.94      0.87        79\n",
      "           1       0.74      0.44      0.55        32\n",
      "\n",
      "    accuracy                           0.79       111\n",
      "   macro avg       0.77      0.69      0.71       111\n",
      "weighted avg       0.78      0.79      0.77       111\n",
      "\n",
      "------------------------------\n",
      "------------------------------ 0.49999999999999994\n",
      "Counter({0: 230, 1: 115})\n",
      "Counter({0: 153, 1: 88}) Counter({0: 77, 1: 27})\n",
      "Duration: 0:00:13.729070\n",
      "              precision    recall  f1-score   support\n",
      "\n",
      "           0       0.86      0.89      0.87       153\n",
      "           1       0.79      0.74      0.76        88\n",
      "\n",
      "    accuracy                           0.83       241\n",
      "   macro avg       0.82      0.81      0.82       241\n",
      "weighted avg       0.83      0.83      0.83       241\n",
      "\n",
      "              precision    recall  f1-score   support\n",
      "\n",
      "           0       0.87      0.78      0.82        77\n",
      "           1       0.51      0.67      0.58        27\n",
      "\n",
      "    accuracy                           0.75       104\n",
      "   macro avg       0.69      0.72      0.70       104\n",
      "weighted avg       0.78      0.75      0.76       104\n",
      "\n",
      "------------------------------\n",
      "------------------------------ 0.5499999999999999\n",
      "Counter({0: 209, 1: 115})\n",
      "Counter({0: 138, 1: 88}) Counter({0: 71, 1: 27})\n",
      "Duration: 0:00:14.084671\n",
      "              precision    recall  f1-score   support\n",
      "\n",
      "           0       0.80      0.93      0.86       138\n",
      "           1       0.85      0.62      0.72        88\n",
      "\n",
      "    accuracy                           0.81       226\n",
      "   macro avg       0.82      0.78      0.79       226\n",
      "weighted avg       0.81      0.81      0.80       226\n",
      "\n",
      "              precision    recall  f1-score   support\n",
      "\n",
      "           0       0.85      0.89      0.87        71\n",
      "           1       0.67      0.59      0.63        27\n",
      "\n",
      "    accuracy                           0.81        98\n",
      "   macro avg       0.76      0.74      0.75        98\n",
      "weighted avg       0.80      0.81      0.80        98\n",
      "\n",
      "------------------------------\n",
      "------------------------------ 0.5999999999999999\n",
      "Counter({0: 191, 1: 115})\n",
      "Counter({0: 134, 1: 80}) Counter({0: 57, 1: 35})\n",
      "Duration: 0:00:14.356707\n",
      "              precision    recall  f1-score   support\n",
      "\n",
      "           0       0.85      0.78      0.82       134\n",
      "           1       0.68      0.78      0.73        80\n",
      "\n",
      "    accuracy                           0.78       214\n",
      "   macro avg       0.77      0.78      0.77       214\n",
      "weighted avg       0.79      0.78      0.78       214\n",
      "\n",
      "              precision    recall  f1-score   support\n",
      "\n",
      "           0       0.74      0.70      0.72        57\n",
      "           1       0.55      0.60      0.58        35\n",
      "\n",
      "    accuracy                           0.66        92\n",
      "   macro avg       0.65      0.65      0.65        92\n",
      "weighted avg       0.67      0.66      0.67        92\n",
      "\n",
      "------------------------------\n",
      "------------------------------ 0.6499999999999999\n",
      "Counter({0: 176, 1: 115})\n",
      "Counter({0: 119, 1: 84}) Counter({0: 57, 1: 31})\n",
      "Duration: 0:00:14.192796\n",
      "              precision    recall  f1-score   support\n",
      "\n",
      "           0       0.84      0.76      0.80       119\n",
      "           1       0.70      0.80      0.74        84\n",
      "\n",
      "    accuracy                           0.77       203\n",
      "   macro avg       0.77      0.78      0.77       203\n",
      "weighted avg       0.78      0.77      0.77       203\n",
      "\n",
      "              precision    recall  f1-score   support\n",
      "\n",
      "           0       0.77      0.63      0.69        57\n",
      "           1       0.49      0.65      0.56        31\n",
      "\n",
      "    accuracy                           0.64        88\n",
      "   macro avg       0.63      0.64      0.62        88\n",
      "weighted avg       0.67      0.64      0.64        88\n",
      "\n",
      "------------------------------\n",
      "------------------------------ 0.7\n",
      "Counter({0: 164, 1: 115})\n",
      "Counter({0: 114, 1: 81}) Counter({0: 50, 1: 34})\n",
      "Duration: 0:00:13.696497\n",
      "              precision    recall  f1-score   support\n",
      "\n",
      "           0       0.79      0.96      0.87       114\n",
      "           1       0.93      0.64      0.76        81\n",
      "\n",
      "    accuracy                           0.83       195\n",
      "   macro avg       0.86      0.80      0.81       195\n",
      "weighted avg       0.85      0.83      0.82       195\n",
      "\n",
      "              precision    recall  f1-score   support\n",
      "\n",
      "           0       0.68      0.80      0.73        50\n",
      "           1       0.60      0.44      0.51        34\n",
      "\n",
      "    accuracy                           0.65        84\n",
      "   macro avg       0.64      0.62      0.62        84\n",
      "weighted avg       0.65      0.65      0.64        84\n",
      "\n",
      "------------------------------\n",
      "------------------------------ 0.7499999999999999\n",
      "Counter({0: 153, 1: 115})\n",
      "Counter({0: 104, 1: 83}) Counter({0: 49, 1: 32})\n",
      "Duration: 0:00:13.792198\n",
      "              precision    recall  f1-score   support\n",
      "\n",
      "           0       0.79      0.85      0.81       104\n",
      "           1       0.79      0.71      0.75        83\n",
      "\n",
      "    accuracy                           0.79       187\n",
      "   macro avg       0.79      0.78      0.78       187\n",
      "weighted avg       0.79      0.79      0.78       187\n",
      "\n",
      "              precision    recall  f1-score   support\n",
      "\n",
      "           0       0.75      0.80      0.77        49\n",
      "           1       0.66      0.59      0.62        32\n",
      "\n",
      "    accuracy                           0.72        81\n",
      "   macro avg       0.70      0.69      0.70        81\n",
      "weighted avg       0.71      0.72      0.71        81\n",
      "\n",
      "------------------------------\n",
      "------------------------------ 0.7999999999999998\n",
      "Counter({0: 143, 1: 115})\n",
      "Counter({0: 101, 1: 79}) Counter({0: 42, 1: 36})\n",
      "Duration: 0:00:13.783626\n",
      "              precision    recall  f1-score   support\n",
      "\n",
      "           0       0.70      0.86      0.77       101\n",
      "           1       0.75      0.53      0.62        79\n",
      "\n",
      "    accuracy                           0.72       180\n",
      "   macro avg       0.73      0.70      0.70       180\n",
      "weighted avg       0.72      0.72      0.71       180\n",
      "\n",
      "              precision    recall  f1-score   support\n",
      "\n",
      "           0       0.66      0.90      0.76        42\n",
      "           1       0.80      0.44      0.57        36\n",
      "\n",
      "    accuracy                           0.69        78\n",
      "   macro avg       0.73      0.67      0.67        78\n",
      "weighted avg       0.72      0.69      0.67        78\n",
      "\n",
      "------------------------------\n",
      "------------------------------ 0.8499999999999999\n",
      "Counter({0: 135, 1: 115})\n",
      "Counter({0: 91, 1: 84}) Counter({0: 44, 1: 31})\n",
      "Duration: 0:00:14.332290\n",
      "              precision    recall  f1-score   support\n",
      "\n",
      "           0       0.78      0.84      0.80        91\n",
      "           1       0.81      0.74      0.77        84\n",
      "\n",
      "    accuracy                           0.79       175\n",
      "   macro avg       0.79      0.79      0.79       175\n",
      "weighted avg       0.79      0.79      0.79       175\n",
      "\n",
      "              precision    recall  f1-score   support\n",
      "\n",
      "           0       0.78      0.80      0.79        44\n",
      "           1       0.70      0.68      0.69        31\n",
      "\n",
      "    accuracy                           0.75        75\n",
      "   macro avg       0.74      0.74      0.74        75\n",
      "weighted avg       0.75      0.75      0.75        75\n",
      "\n",
      "------------------------------\n",
      "------------------------------ 0.8999999999999999\n",
      "Counter({0: 127, 1: 115})\n",
      "Counter({0: 91, 1: 78}) Counter({1: 37, 0: 36})\n",
      "Duration: 0:00:13.803718\n",
      "              precision    recall  f1-score   support\n",
      "\n",
      "           0       0.86      0.74      0.79        91\n",
      "           1       0.74      0.86      0.79        78\n",
      "\n",
      "    accuracy                           0.79       169\n",
      "   macro avg       0.80      0.80      0.79       169\n",
      "weighted avg       0.80      0.79      0.79       169\n",
      "\n",
      "              precision    recall  f1-score   support\n",
      "\n",
      "           0       0.68      0.64      0.66        36\n",
      "           1       0.67      0.70      0.68        37\n",
      "\n",
      "    accuracy                           0.67        73\n",
      "   macro avg       0.67      0.67      0.67        73\n",
      "weighted avg       0.67      0.67      0.67        73\n",
      "\n",
      "------------------------------\n",
      "------------------------------ 0.95\n",
      "Counter({0: 121, 1: 115})\n",
      "Counter({0: 85, 1: 80}) Counter({0: 36, 1: 35})\n",
      "Duration: 0:00:14.099460\n",
      "              precision    recall  f1-score   support\n",
      "\n",
      "           0       0.80      0.94      0.86        85\n",
      "           1       0.92      0.75      0.83        80\n",
      "\n",
      "    accuracy                           0.85       165\n",
      "   macro avg       0.86      0.85      0.85       165\n",
      "weighted avg       0.86      0.85      0.85       165\n",
      "\n",
      "              precision    recall  f1-score   support\n",
      "\n",
      "           0       0.61      0.75      0.67        36\n",
      "           1       0.67      0.51      0.58        35\n",
      "\n",
      "    accuracy                           0.63        71\n",
      "   macro avg       0.64      0.63      0.63        71\n",
      "weighted avg       0.64      0.63      0.63        71\n",
      "\n",
      "------------------------------\n"
     ]
    }
   ],
   "source": [
    "sampling_strategy_list = np.arange(0.3, 1.0, 0.05)\n",
    "\n",
    "for sampling_strategy in sampling_strategy_list :\n",
    "    print(30*'-','{}'.format(sampling_strategy))\n",
    "    resampler = NearMiss(sampling_strategy=sampling_strategy)\n",
    "    features_under_resample, target_under_resample = resampler.fit_resample(features, target)\n",
    "    print(Counter(target_under_resample))\n",
    "    features_under_resample_train, features_under_resample_test, target_under_resample_train, target_under_resample_test = train_test_split(features_under_resample, target_under_resample, test_size = 0.3, random_state= 1234)\n",
    "    print(Counter(target_under_resample_train), Counter(target_under_resample_test))\n",
    "    # re learning with oversampling datasets\n",
    "    \n",
    "    start = datetime.now()  # start date and time\n",
    "\n",
    "    grid_model.fit(features_under_resample_train, target_under_resample_train)\n",
    "\n",
    "    end = datetime.now()  # end date and time - set to current date and time\n",
    "\n",
    "    duration = end - start  # duration as a timedelta object\n",
    "\n",
    "    print(\"Duration: {0}\".format(duration))\n",
    "    \n",
    "    best_model = grid_model.best_estimator_\n",
    "    target_under_resample_train_pred = best_model.predict(features_under_resample_train)\n",
    "    target_under_resample_test_pred = best_model.predict(features_under_resample_test)\n",
    "\n",
    "    print(classification_report(target_under_resample_train, target_under_resample_train_pred))\n",
    "    print(classification_report(target_under_resample_test, target_under_resample_test_pred))\n",
    "    print(30*'-')"
   ]
  },
  {
   "cell_type": "code",
   "execution_count": null,
   "id": "d813ad3d-9698-47d2-9362-fa3690890913",
   "metadata": {},
   "outputs": [],
   "source": []
  }
 ],
 "metadata": {
  "kernelspec": {
   "display_name": "Python 3 (ipykernel)",
   "language": "python",
   "name": "python3"
  },
  "language_info": {
   "codemirror_mode": {
    "name": "ipython",
    "version": 3
   },
   "file_extension": ".py",
   "mimetype": "text/x-python",
   "name": "python",
   "nbconvert_exporter": "python",
   "pygments_lexer": "ipython3",
   "version": "3.11.4"
  }
 },
 "nbformat": 4,
 "nbformat_minor": 5
}
